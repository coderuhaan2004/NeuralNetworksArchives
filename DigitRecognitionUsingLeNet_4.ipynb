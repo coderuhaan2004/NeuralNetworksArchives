{
  "metadata": {
    "kernelspec": {
      "language": "python",
      "display_name": "Python 3",
      "name": "python3"
    },
    "language_info": {
      "name": "python",
      "version": "3.10.14",
      "mimetype": "text/x-python",
      "codemirror_mode": {
        "name": "ipython",
        "version": 3
      },
      "pygments_lexer": "ipython3",
      "nbconvert_exporter": "python",
      "file_extension": ".py"
    },
    "kaggle": {
      "accelerator": "none",
      "dataSources": [
        {
          "sourceId": 3004,
          "databundleVersionId": 861823,
          "sourceType": "competition"
        }
      ],
      "dockerImageVersionId": 30804,
      "isInternetEnabled": false,
      "language": "python",
      "sourceType": "notebook",
      "isGpuEnabled": false
    },
    "colab": {
      "provenance": []
    }
  },
  "nbformat_minor": 0,
  "nbformat": 4,
  "cells": [
    {
      "source": [
        "# IMPORTANT: SOME KAGGLE DATA SOURCES ARE PRIVATE\n",
        "# RUN THIS CELL IN ORDER TO IMPORT YOUR KAGGLE DATA SOURCES.\n",
        "import kagglehub\n",
        "kagglehub.login()\n"
      ],
      "metadata": {
        "id": "u2tfvNyfDWR4"
      },
      "cell_type": "code",
      "outputs": [],
      "execution_count": null
    },
    {
      "source": [
        "# IMPORTANT: RUN THIS CELL IN ORDER TO IMPORT YOUR KAGGLE DATA SOURCES,\n",
        "# THEN FEEL FREE TO DELETE THIS CELL.\n",
        "# NOTE: THIS NOTEBOOK ENVIRONMENT DIFFERS FROM KAGGLE'S PYTHON\n",
        "# ENVIRONMENT SO THERE MAY BE MISSING LIBRARIES USED BY YOUR\n",
        "# NOTEBOOK.\n",
        "\n",
        "digit_recognizer_path = kagglehub.competition_download('digit-recognizer')\n",
        "\n",
        "print('Data source import complete.')\n"
      ],
      "metadata": {
        "id": "YG4XgWpsDWR7"
      },
      "cell_type": "code",
      "outputs": [],
      "execution_count": null
    },
    {
      "cell_type": "code",
      "source": [
        "# This Python 3 environment comes with many helpful analytics libraries installed\n",
        "# It is defined by the kaggle/python Docker image: https://github.com/kaggle/docker-python\n",
        "# For example, here's several helpful packages to load\n",
        "\n",
        "import numpy as np # linear algebra\n",
        "import pandas as pd # data processing, CSV file I/O (e.g. pd.read_csv)\n",
        "\n",
        "# Input data files are available in the read-only \"../input/\" directory\n",
        "# For example, running this (by clicking run or pressing Shift+Enter) will list all files under the input directory\n",
        "\n",
        "import os\n",
        "for dirname, _, filenames in os.walk('/kaggle/input'):\n",
        "    for filename in filenames:\n",
        "        print(os.path.join(dirname, filename))\n",
        "\n",
        "# You can write up to 20GB to the current directory (/kaggle/working/) that gets preserved as output when you create a version using \"Save & Run All\"\n",
        "# You can also write temporary files to /kaggle/temp/, but they won't be saved outside of the current session"
      ],
      "metadata": {
        "_uuid": "8f2839f25d086af736a60e9eeb907d3b93b6e0e5",
        "_cell_guid": "b1076dfc-b9ad-4769-8c92-a6c4dae69d19",
        "trusted": true,
        "execution": {
          "iopub.status.busy": "2024-12-18T10:42:05.019178Z",
          "iopub.execute_input": "2024-12-18T10:42:05.019613Z",
          "iopub.status.idle": "2024-12-18T10:42:05.449451Z",
          "shell.execute_reply.started": "2024-12-18T10:42:05.019568Z",
          "shell.execute_reply": "2024-12-18T10:42:05.447926Z"
        },
        "id": "staplWzeDWR8",
        "outputId": "41301b16-6ec2-4dcc-a23d-eb5af48c29bf"
      },
      "outputs": [
        {
          "name": "stdout",
          "text": "/kaggle/input/digit-recognizer/sample_submission.csv\n/kaggle/input/digit-recognizer/train.csv\n/kaggle/input/digit-recognizer/test.csv\n",
          "output_type": "stream"
        }
      ],
      "execution_count": null
    },
    {
      "cell_type": "code",
      "source": [
        "train_data = pd.read_csv('/kaggle/input/digit-recognizer/train.csv')\n",
        "test_data = pd.read_csv('/kaggle/input/digit-recognizer/test.csv')"
      ],
      "metadata": {
        "trusted": true,
        "execution": {
          "iopub.status.busy": "2024-12-18T10:42:29.465199Z",
          "iopub.execute_input": "2024-12-18T10:42:29.465825Z",
          "iopub.status.idle": "2024-12-18T10:42:34.821707Z",
          "shell.execute_reply.started": "2024-12-18T10:42:29.465745Z",
          "shell.execute_reply": "2024-12-18T10:42:34.820626Z"
        },
        "id": "UWXM-g2XDWR-"
      },
      "outputs": [],
      "execution_count": null
    },
    {
      "cell_type": "code",
      "source": [
        "import torch\n",
        "import torch.nn.functional as F\n",
        "import torch.nn as nn\n",
        "import torch.optim as optim\n",
        "from torch.utils.data import Dataset, DataLoader\n",
        "from torch.utils.data import random_split"
      ],
      "metadata": {
        "trusted": true,
        "execution": {
          "iopub.status.busy": "2024-12-18T10:42:45.128713Z",
          "iopub.execute_input": "2024-12-18T10:42:45.129215Z",
          "iopub.status.idle": "2024-12-18T10:42:45.134681Z",
          "shell.execute_reply.started": "2024-12-18T10:42:45.12918Z",
          "shell.execute_reply": "2024-12-18T10:42:45.133481Z"
        },
        "id": "_QAlYLPQDWR_"
      },
      "outputs": [],
      "execution_count": null
    },
    {
      "cell_type": "code",
      "source": [
        "import torch.nn as nn\n",
        "\n",
        "class DigitClassifier(nn.Module):\n",
        "    def __init__(self):\n",
        "        super(DigitClassifier, self).__init__()\n",
        "        self.convnet = nn.Sequential(\n",
        "            nn.Conv2d(1, 4, kernel_size=5, stride=1, padding=0),  # 32x32x1 -> 28x28x4\n",
        "            #nn.Tanh(),\n",
        "            nn.AvgPool2d(kernel_size=2, stride=2),                # 28x28x4 -> 14x14x4\n",
        "\n",
        "            nn.Conv2d(4, 16, kernel_size=5, stride=1, padding=0), # 14x14x4 -> 10x10x16\n",
        "            #nn.Tanh(),\n",
        "            nn.AvgPool2d(kernel_size=2, stride=2)                 # 10x10x16 -> 5x5x16\n",
        "        )\n",
        "        self.fc1 = nn.Linear(400, 120)  # Fully connected layer (400 -> 120)\n",
        "        self.fc2 = nn.Linear(120, 10)  # Fully connected layer (120 -> 10)\n",
        "        self.activation = nn.Tanh()    # Activation for hidden layer\n",
        "\n",
        "    def forward(self, x_in):\n",
        "        \"\"\"\n",
        "        Args:\n",
        "            x_in: input_image (32x32)\n",
        "        \"\"\"\n",
        "        x = self.convnet(x_in)       # Pass through convolutional layers\n",
        "        x = x.view(x.size(0), -1)    # Flatten for fully connected layers\n",
        "        x = self.activation(self.fc1(x))  # Hidden layer with activation\n",
        "        prediction = self.fc2(x)    # Output layer\n",
        "        return prediction\n"
      ],
      "metadata": {
        "trusted": true,
        "execution": {
          "iopub.status.busy": "2024-12-18T10:42:50.545775Z",
          "iopub.execute_input": "2024-12-18T10:42:50.546231Z",
          "iopub.status.idle": "2024-12-18T10:42:50.555526Z",
          "shell.execute_reply.started": "2024-12-18T10:42:50.546195Z",
          "shell.execute_reply": "2024-12-18T10:42:50.554215Z"
        },
        "id": "a4W8OaY_DWSA"
      },
      "outputs": [],
      "execution_count": null
    },
    {
      "cell_type": "code",
      "source": [
        "# Custom Dataset for train.csv\n",
        "class DigitDataset(Dataset):\n",
        "    def __init__(self, train_data):\n",
        "        \"\"\"\n",
        "        Args:\n",
        "            csv_file (str): Path to the train.csv file\n",
        "        \"\"\"\n",
        "        self.data = train_data\n",
        "        self.labels = self.data['label'].values  # Extract the labels\n",
        "        self.images = self.data.drop(columns=['label']).values / 255.0  # Normalize pixel values to [0, 1]\n",
        "\n",
        "    def __len__(self):\n",
        "        return len(self.data)\n",
        "\n",
        "    def __getitem__(self, idx):\n",
        "        \"\"\"\n",
        "        Args:\n",
        "            idx (int): Index of the data point to retrieve\n",
        "        Returns:\n",
        "            Tuple of (image_tensor, label_tensor)\n",
        "        \"\"\"\n",
        "        label = self.labels[idx]\n",
        "        # Reshape the flat 784 pixels into 28x28 and add a channel dimension (1x28x28)\n",
        "        image = self.images[idx].reshape(1, 28, 28).astype('float32')\n",
        "        image = torch.tensor(image).unsqueeze(0)  # Add a batch dimension temporarily\n",
        "        image = F.interpolate(image, size=(32, 32), mode='bilinear', align_corners=False)\n",
        "        image = image.squeeze(0)  # Remove the batch dimension\n",
        "\n",
        "        return image, torch.tensor(label, dtype=torch.long)\n",
        "\n",
        "# Hyperparameters\n",
        "batch_size = 64\n",
        "learning_rate = 0.01\n",
        "num_epochs = 10\n",
        "\n",
        "# Load training data\n",
        "full_dataset = DigitDataset(train_data)\n",
        "\n",
        "# Compute lengths for train and validation sets\n",
        "total_size = len(full_dataset)\n",
        "train_size = int(0.8 * total_size)\n",
        "val_size = total_size - train_size\n",
        "\n",
        "# Split the dataset\n",
        "train_dataset, val_dataset = random_split(full_dataset, [train_size, val_size])\n",
        "\n",
        "train_loader = DataLoader(dataset=train_dataset, batch_size=batch_size, shuffle=True)\n",
        "val_loader = DataLoader(dataset=val_dataset, batch_size=batch_size, shuffle=False)"
      ],
      "metadata": {
        "trusted": true,
        "execution": {
          "iopub.status.busy": "2024-12-18T10:42:54.462008Z",
          "iopub.execute_input": "2024-12-18T10:42:54.462384Z",
          "iopub.status.idle": "2024-12-18T10:42:54.750654Z",
          "shell.execute_reply.started": "2024-12-18T10:42:54.462352Z",
          "shell.execute_reply": "2024-12-18T10:42:54.749659Z"
        },
        "id": "dy9AxUmkDWSA"
      },
      "outputs": [],
      "execution_count": null
    },
    {
      "cell_type": "code",
      "source": [
        "# Define model, loss function, and optimizer\n",
        "model = DigitClassifier()  # Use the model defined earlier\n",
        "criterion = nn.CrossEntropyLoss()\n",
        "optimizer = optim.Adam(model.parameters(), lr=learning_rate)\n",
        "\n",
        "# Training loop\n",
        "for epoch in range(num_epochs):\n",
        "    # Training Phase\n",
        "    model.train()\n",
        "    total_loss = 0\n",
        "\n",
        "    for batch_idx, (images, labels) in enumerate(train_loader):\n",
        "        # Forward pass\n",
        "        outputs = model(images)\n",
        "        loss = criterion(outputs, labels)\n",
        "\n",
        "        # Backward pass and optimization\n",
        "        optimizer.zero_grad()\n",
        "        loss.backward()\n",
        "        optimizer.step()\n",
        "\n",
        "        total_loss += loss.item()\n",
        "\n",
        "    print(f'Epoch [{epoch+1}/{num_epochs}], Training Loss: {total_loss / len(train_loader):.4f}')\n",
        "\n",
        "    # Validation Phase\n",
        "    model.eval()\n",
        "    correct = 0\n",
        "    total = 0\n",
        "    val_loss = 0\n",
        "\n",
        "    with torch.no_grad():\n",
        "        for images, labels in val_loader:\n",
        "            outputs = model(images)\n",
        "            loss = criterion(outputs, labels)  # Calculate validation loss\n",
        "            val_loss += loss.item()\n",
        "\n",
        "            _, predicted = torch.max(outputs, 1)\n",
        "            total += labels.size(0)\n",
        "            correct += (predicted == labels).sum().item()\n",
        "\n",
        "    val_accuracy = 100 * correct / total\n",
        "    print(f'Epoch [{epoch+1}/{num_epochs}], Validation Loss: {val_loss / len(val_loader):.4f}, Validation Accuracy: {val_accuracy:.2f}%')"
      ],
      "metadata": {
        "trusted": true,
        "execution": {
          "iopub.status.busy": "2024-12-18T10:43:03.740312Z",
          "iopub.execute_input": "2024-12-18T10:43:03.741034Z",
          "iopub.status.idle": "2024-12-18T10:44:36.112979Z",
          "shell.execute_reply.started": "2024-12-18T10:43:03.740961Z",
          "shell.execute_reply": "2024-12-18T10:44:36.111734Z"
        },
        "id": "4SNvr195DWSB",
        "outputId": "19c7a90e-fcfa-4715-e427-2d86eb0b7387"
      },
      "outputs": [
        {
          "name": "stdout",
          "text": "Epoch [1/10], Training Loss: 0.3725\nEpoch [1/10], Validation Loss: 0.3459, Validation Accuracy: 89.17%\nEpoch [2/10], Training Loss: 0.3881\nEpoch [2/10], Validation Loss: 0.4462, Validation Accuracy: 86.30%\nEpoch [3/10], Training Loss: 0.4019\nEpoch [3/10], Validation Loss: 0.4272, Validation Accuracy: 86.95%\nEpoch [4/10], Training Loss: 0.4195\nEpoch [4/10], Validation Loss: 0.3698, Validation Accuracy: 88.48%\nEpoch [5/10], Training Loss: 0.4044\nEpoch [5/10], Validation Loss: 0.3428, Validation Accuracy: 89.35%\nEpoch [6/10], Training Loss: 0.4006\nEpoch [6/10], Validation Loss: 0.4003, Validation Accuracy: 88.33%\nEpoch [7/10], Training Loss: 0.3892\nEpoch [7/10], Validation Loss: 0.4220, Validation Accuracy: 87.38%\nEpoch [8/10], Training Loss: 0.3910\nEpoch [8/10], Validation Loss: 0.3981, Validation Accuracy: 87.76%\nEpoch [9/10], Training Loss: 0.3830\nEpoch [9/10], Validation Loss: 0.4120, Validation Accuracy: 87.27%\nEpoch [10/10], Training Loss: 0.3674\nEpoch [10/10], Validation Loss: 0.3261, Validation Accuracy: 90.13%\n",
          "output_type": "stream"
        }
      ],
      "execution_count": null
    },
    {
      "cell_type": "code",
      "source": [
        "# Custom Test Dataset (assuming test.csv has 784 columns of pixel values)\n",
        "class TestDataset(Dataset):\n",
        "    def __init__(self, test_data):\n",
        "        \"\"\"\n",
        "        Args:\n",
        "            csv_file (str): Path to the test.csv file\n",
        "        \"\"\"\n",
        "        self.data = test_data.values / 255.0  # Normalize pixel values to [0, 1]\n",
        "\n",
        "    def __len__(self):\n",
        "        return len(self.data)\n",
        "\n",
        "    def __getitem__(self, idx):\n",
        "        \"\"\"\n",
        "        Args:\n",
        "            idx (int): Index of the data point to retrieve\n",
        "        Returns:\n",
        "            image_tensor (1x32x32)\n",
        "        \"\"\"\n",
        "        image = self.data[idx].reshape(1, 28, 28).astype('float32')  # Reshape to 1x28x28\n",
        "        image = torch.tensor(image).unsqueeze(0)  # Add a batch dimension temporarily\n",
        "        image = F.interpolate(image, size=(32, 32), mode='bilinear', align_corners=False)\n",
        "        image = image.squeeze(0)  # Remove the batch dimension\n",
        "        return image\n",
        "\n",
        "# Load the test data\n",
        "\n",
        "test_dataset = TestDataset(test_data)\n",
        "test_loader = DataLoader(dataset=test_dataset, batch_size=64, shuffle=False)\n",
        "\n",
        "# Make predictions\n",
        "model.eval()  # Set the model to evaluation mode\n",
        "predictions = []\n",
        "\n",
        "with torch.no_grad():\n",
        "    for images in test_loader:\n",
        "        outputs = model(images)\n",
        "        _, predicted = torch.max(outputs, 1)  # Get predicted class\n",
        "        predictions.extend(predicted.cpu().numpy())  # Collect predictions\n",
        "\n",
        "# Create submission DataFrame\n",
        "submission = pd.DataFrame({\n",
        "    'ImageId': range(1, len(predictions) + 1),  # ImageId starts from 1\n",
        "    'Label': predictions\n",
        "})\n",
        "\n",
        "# Save to CSV\n",
        "submission.to_csv('submission.csv', index=False)\n",
        "print(\"submission.csv generated!\")"
      ],
      "metadata": {
        "trusted": true,
        "execution": {
          "iopub.status.busy": "2024-12-18T10:44:48.991457Z",
          "iopub.execute_input": "2024-12-18T10:44:48.992029Z",
          "iopub.status.idle": "2024-12-18T10:44:52.595668Z",
          "shell.execute_reply.started": "2024-12-18T10:44:48.991973Z",
          "shell.execute_reply": "2024-12-18T10:44:52.594535Z"
        },
        "id": "-X0aQc9bDWSC",
        "outputId": "cb1ca3e9-8762-4baf-886c-2d7cd4c9f005"
      },
      "outputs": [
        {
          "name": "stdout",
          "text": "submission.csv generated!\n",
          "output_type": "stream"
        }
      ],
      "execution_count": null
    },
    {
      "cell_type": "code",
      "source": [],
      "metadata": {
        "trusted": true,
        "id": "QnT6lohmDWSC"
      },
      "outputs": [],
      "execution_count": null
    }
  ]
}